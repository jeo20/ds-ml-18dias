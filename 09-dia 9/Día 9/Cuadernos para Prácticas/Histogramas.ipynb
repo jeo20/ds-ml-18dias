{
 "cells": [
  {
   "cell_type": "code",
   "execution_count": 1,
   "id": "e14c64b8",
   "metadata": {},
   "outputs": [],
   "source": [
    "import pandas as pd\n",
    "import numpy as np\n",
    "import matplotlib.pyplot as plt\n",
    "%matplotlib inline"
   ]
  },
  {
   "cell_type": "code",
   "execution_count": 2,
   "id": "d06b6c71",
   "metadata": {},
   "outputs": [
    {
     "data": {
      "text/html": [
       "<div>\n",
       "<style scoped>\n",
       "    .dataframe tbody tr th:only-of-type {\n",
       "        vertical-align: middle;\n",
       "    }\n",
       "\n",
       "    .dataframe tbody tr th {\n",
       "        vertical-align: top;\n",
       "    }\n",
       "\n",
       "    .dataframe thead th {\n",
       "        text-align: right;\n",
       "    }\n",
       "</style>\n",
       "<table border=\"1\" class=\"dataframe\">\n",
       "  <thead>\n",
       "    <tr style=\"text-align: right;\">\n",
       "      <th></th>\n",
       "      <th>Fecha</th>\n",
       "      <th>Producto</th>\n",
       "      <th>Cantidad</th>\n",
       "      <th>Precio Unitario</th>\n",
       "      <th>Total Venta</th>\n",
       "    </tr>\n",
       "  </thead>\n",
       "  <tbody>\n",
       "    <tr>\n",
       "      <th>0</th>\n",
       "      <td>1/17/2023</td>\n",
       "      <td>Electrónic</td>\n",
       "      <td>7</td>\n",
       "      <td>200</td>\n",
       "      <td>1400</td>\n",
       "    </tr>\n",
       "    <tr>\n",
       "      <th>1</th>\n",
       "      <td>9/1/2023</td>\n",
       "      <td>Electrónic</td>\n",
       "      <td>8</td>\n",
       "      <td>200</td>\n",
       "      <td>1600</td>\n",
       "    </tr>\n",
       "    <tr>\n",
       "      <th>2</th>\n",
       "      <td>7/29/2023</td>\n",
       "      <td>Juguetes</td>\n",
       "      <td>3</td>\n",
       "      <td>30</td>\n",
       "      <td>90</td>\n",
       "    </tr>\n",
       "    <tr>\n",
       "      <th>3</th>\n",
       "      <td>10/4/2023</td>\n",
       "      <td>Alimentos</td>\n",
       "      <td>4</td>\n",
       "      <td>10</td>\n",
       "      <td>40</td>\n",
       "    </tr>\n",
       "    <tr>\n",
       "      <th>4</th>\n",
       "      <td>2/28/2023</td>\n",
       "      <td>Electrónic</td>\n",
       "      <td>6</td>\n",
       "      <td>200</td>\n",
       "      <td>1200</td>\n",
       "    </tr>\n",
       "    <tr>\n",
       "      <th>...</th>\n",
       "      <td>...</td>\n",
       "      <td>...</td>\n",
       "      <td>...</td>\n",
       "      <td>...</td>\n",
       "      <td>...</td>\n",
       "    </tr>\n",
       "    <tr>\n",
       "      <th>995</th>\n",
       "      <td>4/27/2023</td>\n",
       "      <td>Alimentos</td>\n",
       "      <td>2</td>\n",
       "      <td>10</td>\n",
       "      <td>20</td>\n",
       "    </tr>\n",
       "    <tr>\n",
       "      <th>996</th>\n",
       "      <td>6/9/2023</td>\n",
       "      <td>Ropa</td>\n",
       "      <td>10</td>\n",
       "      <td>50</td>\n",
       "      <td>500</td>\n",
       "    </tr>\n",
       "    <tr>\n",
       "      <th>997</th>\n",
       "      <td>8/21/2023</td>\n",
       "      <td>Alimentos</td>\n",
       "      <td>8</td>\n",
       "      <td>10</td>\n",
       "      <td>80</td>\n",
       "    </tr>\n",
       "    <tr>\n",
       "      <th>998</th>\n",
       "      <td>3/28/2023</td>\n",
       "      <td>Electrónic</td>\n",
       "      <td>6</td>\n",
       "      <td>200</td>\n",
       "      <td>1200</td>\n",
       "    </tr>\n",
       "    <tr>\n",
       "      <th>999</th>\n",
       "      <td>3/7/2023</td>\n",
       "      <td>Electrónic</td>\n",
       "      <td>4</td>\n",
       "      <td>200</td>\n",
       "      <td>800</td>\n",
       "    </tr>\n",
       "  </tbody>\n",
       "</table>\n",
       "<p>1000 rows × 5 columns</p>\n",
       "</div>"
      ],
      "text/plain": [
       "         Fecha    Producto  Cantidad  Precio Unitario  Total Venta\n",
       "0    1/17/2023  Electrónic         7              200         1400\n",
       "1     9/1/2023  Electrónic         8              200         1600\n",
       "2    7/29/2023    Juguetes         3               30           90\n",
       "3    10/4/2023   Alimentos         4               10           40\n",
       "4    2/28/2023  Electrónic         6              200         1200\n",
       "..         ...         ...       ...              ...          ...\n",
       "995  4/27/2023   Alimentos         2               10           20\n",
       "996   6/9/2023        Ropa        10               50          500\n",
       "997  8/21/2023   Alimentos         8               10           80\n",
       "998  3/28/2023  Electrónic         6              200         1200\n",
       "999   3/7/2023  Electrónic         4              200          800\n",
       "\n",
       "[1000 rows x 5 columns]"
      ]
     },
     "execution_count": 2,
     "metadata": {},
     "output_type": "execute_result"
    }
   ],
   "source": [
    "df = pd.read_csv(\"D:/Cursos/ds_ml_18dias/09-dia 9/Día 9/12.1 Ventas.csv\")\n",
    "df"
   ]
  },
  {
   "cell_type": "code",
   "execution_count": 3,
   "id": "4808a0fa",
   "metadata": {},
   "outputs": [
    {
     "data": {
      "image/png": "[encoded data removed]",
      "text/plain": [
       "<Figure size 640x480 with 1 Axes>"
      ]
     },
     "metadata": {},
     "output_type": "display_data"
    }
   ],
   "source": [
    "plt.hist(df['Producto']);"
   ]
  },
  {
   "cell_type": "code",
   "execution_count": 4,
   "id": "62786e85",
   "metadata": {},
   "outputs": [
    {
     "data": {
      "text/plain": [
       "array([-8.45513265e-01,  1.25058864e+00,  7.27535693e-01,  1.35175583e-01,\n",
       "       -5.38974977e-01,  2.39296379e-01, -6.04983074e-01,  1.20466365e+00,\n",
       "        6.28196856e-01, -1.07606675e-01,  1.84930971e+00,  5.93402740e-01,\n",
       "        3.21625680e-01,  1.37237929e+00,  3.03681379e-01,  2.58404859e+00,\n",
       "       -7.50234864e-02, -3.58851923e-01, -1.53262714e+00, -3.47065523e-01,\n",
       "       -5.29825665e-01,  1.49904134e+00, -9.13526214e-01, -5.22443171e-02,\n",
       "        5.43921137e-02, -4.33874356e-02, -9.18438620e-02, -9.30489916e-01,\n",
       "        1.17857873e+00,  5.94426473e-01,  3.06523234e-01,  2.58277166e-01,\n",
       "       -6.91002110e-01,  5.78528864e-01, -7.78548756e-01, -1.97153913e-01,\n",
       "        5.53598399e-01,  1.65465750e+00, -8.44345312e-01,  6.68896249e-01,\n",
       "       -1.14561915e+00,  8.08741831e-01, -6.73481524e-01, -1.15300039e+00,\n",
       "        1.88078727e+00, -1.41701908e+00, -8.06819979e-01, -4.43501527e-01,\n",
       "       -3.86091955e-01, -7.88894195e-01, -8.75042545e-01,  1.10386327e+00,\n",
       "       -7.86752997e-01,  6.55612477e-01, -8.47649486e-01,  1.22585997e+00,\n",
       "        1.08849562e+00,  6.47197791e-01,  8.29261423e-01,  3.69996374e-01,\n",
       "        8.28218429e-01,  2.26176311e-03, -8.63367778e-01,  1.10933857e+00,\n",
       "       -9.16920076e-01, -2.09671373e+00, -5.86528957e-02,  2.10059177e+00,\n",
       "        1.09960341e+00, -6.04506819e-01, -5.08218396e-01,  2.70655226e+00,\n",
       "       -2.21627175e+00,  1.47252221e+00, -7.19738293e-01, -6.22418658e-01,\n",
       "        8.07464373e-01, -7.07784961e-01,  4.46774484e-01, -2.46300584e-01,\n",
       "       -1.15838114e+00, -7.58429985e-01, -9.32940538e-02, -1.57553311e-01,\n",
       "        5.84719687e-01,  5.11396898e-01, -6.40103027e-01, -2.35489420e-01,\n",
       "       -7.19725103e-01, -9.79432660e-01, -4.37978454e-01,  7.50144586e-01,\n",
       "        4.49370347e-01,  2.03728904e-01, -5.37273201e-02, -8.04637699e-01,\n",
       "       -1.05089418e+00,  1.04252007e+00, -1.78927226e+00,  6.20683462e-02,\n",
       "        1.94058395e-01,  4.85423623e-01,  1.07035576e+00,  4.58482727e-01,\n",
       "        8.13654181e-01, -5.06454695e-02, -4.70970005e-01,  1.00258222e-01,\n",
       "       -1.17645497e+00,  1.01079109e+00, -8.19127861e-01,  2.20384190e-04,\n",
       "        1.20552271e+00, -1.26287809e+00,  7.60672114e-02, -3.66116468e-01,\n",
       "        1.19350456e+00,  1.17665977e-01, -6.06681057e-01, -1.36787264e-01,\n",
       "        9.94372895e-01,  1.69680081e+00, -7.44535732e-01, -4.35414115e-03,\n",
       "       -6.21932085e-01, -3.46526201e-01, -1.13362684e+00,  1.00436706e+00,\n",
       "        1.68859145e-01,  7.06553258e-01,  1.65222086e+00,  3.28788935e-01,\n",
       "        2.76564037e-01,  1.61845497e-01,  4.71758439e-01,  1.19628843e+00,\n",
       "        1.21744451e+00,  6.99031910e-01, -6.16399206e-01, -4.48857228e-01,\n",
       "       -5.22734821e-01, -1.54753315e+00, -2.97157236e-01, -2.80490694e-01,\n",
       "        1.02321422e-01,  5.48051004e-01,  1.43207701e+00, -5.82899340e-01,\n",
       "        3.53351451e-01,  8.46371718e-01, -5.17282694e-01,  9.10572250e-01,\n",
       "        4.92836706e-01,  7.43544612e-01, -9.22348280e-01,  3.41284637e-01,\n",
       "       -1.50201292e+00,  6.68872995e-01,  1.74498550e-01, -3.45861114e-01,\n",
       "       -8.35915385e-01,  6.80766025e-01, -3.97936861e-01,  5.53219024e-01,\n",
       "       -2.31146256e-01, -5.84819356e-01,  7.28861653e-01, -2.38619705e-01,\n",
       "       -8.30746674e-01, -1.96599778e+00,  1.71823869e+00,  6.30117761e-01,\n",
       "       -1.20637421e+00,  3.06434995e-01, -7.68023216e-01, -2.85026766e-01,\n",
       "       -5.07342394e-01,  1.98139891e+00, -1.71454354e-01, -8.20412057e-02,\n",
       "       -9.69471410e-01,  7.73400026e-01, -6.10353685e-01,  4.32840702e-01,\n",
       "       -4.11442030e-01,  6.58695182e-01, -9.60646954e-01, -2.40516050e+00,\n",
       "       -1.61085080e+00,  8.01053198e-01, -1.82668913e-01, -1.30850101e+00,\n",
       "        3.62451629e-01, -6.41734650e-01,  6.39509977e-01, -2.72764304e-01,\n",
       "        4.95632250e-01, -6.37034688e-01,  9.07047783e-01,  6.26005710e-01,\n",
       "        8.59100371e-01, -1.01321854e-01, -5.63019270e-01,  1.50603744e+00,\n",
       "       -8.25905719e-01, -2.62412525e-01,  1.56670349e-01,  1.34800598e+00,\n",
       "       -9.61904824e-01, -2.10999997e+00,  1.83257111e-02,  1.49818472e+00,\n",
       "        2.52547457e-01, -1.04944214e+00,  1.26762696e-01, -1.32196661e+00,\n",
       "        1.69132530e+00, -1.58575262e+00,  5.84665408e-01, -1.62847615e-02,\n",
       "       -7.80830898e-01, -6.92906541e-01,  2.14628638e+00, -1.92304041e+00,\n",
       "       -7.76889352e-01, -1.10328961e+00, -6.57402268e-01, -1.37833452e-01,\n",
       "        1.37533010e+00,  6.08927257e-01,  1.31690797e-01, -1.58281731e+00,\n",
       "        1.15716243e+00,  8.26234601e-01,  3.76071165e-01,  3.20131479e-01,\n",
       "       -2.41680537e+00, -1.34837100e+00, -2.99147371e-01, -6.89627371e-01,\n",
       "       -3.73731000e-01,  4.34229787e-01,  8.72777256e-01, -5.25693284e-01,\n",
       "       -9.41497746e-01,  4.23522290e-01,  6.10358590e-01, -8.22373817e-01,\n",
       "        6.61831460e-01,  7.08768166e-02,  8.65677916e-02, -3.58388270e-01,\n",
       "       -8.06704402e-01,  2.07530616e+00, -8.14169973e-01, -1.63798765e+00,\n",
       "       -5.38386370e-01, -9.76075290e-01, -1.46711639e+00, -8.37014066e-01,\n",
       "        8.60411942e-01,  1.50215349e+00,  2.35380643e-01,  1.83060249e+00,\n",
       "        9.00160716e-01, -1.68951910e-01,  7.05423950e-01, -3.49792124e-01,\n",
       "        4.50261822e-01,  1.27815241e+00,  1.83487635e+00, -3.74895076e-01,\n",
       "        1.18338164e+00, -3.70837604e-01, -2.54635756e-01,  1.89764057e+00,\n",
       "       -1.49304747e+00, -1.23153082e+00, -7.35579973e-01,  8.48994252e-01,\n",
       "        9.36967385e-01,  1.71751971e+00,  7.49610689e-01, -1.07000551e+00,\n",
       "       -6.15295943e-01, -1.02536585e+00, -3.00824830e+00, -2.96634538e-01,\n",
       "        5.53966986e-02, -1.40575359e+00,  1.63619062e+00, -1.34672021e+00,\n",
       "        1.14930825e+00, -5.00508612e-01,  1.63053417e+00, -9.72271356e-02,\n",
       "        1.77997056e+00, -1.31395176e-01, -4.24995217e-01,  1.14805349e+00,\n",
       "        3.33138203e-01, -2.23718541e-01,  1.69195466e+00, -1.94480181e+00,\n",
       "       -1.03362264e+00, -1.09536704e+00, -1.56517899e-01, -6.79352564e-01,\n",
       "        6.58502446e-01,  4.64962874e-01, -2.69724527e+00,  1.57945734e+00,\n",
       "        3.76907850e-01, -7.45075875e-01,  4.19195492e-01,  1.54649051e+00,\n",
       "       -1.31578794e+00, -6.19007914e-01, -4.04879668e-01, -1.26184516e+00,\n",
       "        9.83717898e-02,  1.07434451e+00,  3.78772384e-01,  1.44014391e-01,\n",
       "       -4.60494623e-02,  1.02353622e+00,  8.05238522e-01,  1.38731316e+00,\n",
       "       -5.94674027e-02, -1.12487565e+00, -5.99579450e-01, -1.02613754e+00,\n",
       "        7.46184013e-01, -9.12226701e-01,  1.55660541e+00, -1.29587474e+00,\n",
       "        6.78907780e-01,  4.71542385e-01,  1.04552433e+00,  1.01527163e+00,\n",
       "       -3.87400203e-01, -9.37935438e-01, -1.33868084e+00,  2.41480431e-01,\n",
       "        5.46324380e-01, -9.99755950e-01,  7.39757374e-01,  6.95226076e-01,\n",
       "       -4.82509777e-01,  2.88237593e-01,  9.97332363e-01, -3.69757775e-01,\n",
       "       -2.10337610e-01,  3.95905474e-01,  1.57679876e+00, -1.55377809e-01,\n",
       "       -9.47193485e-01,  2.12622069e-01, -1.32077637e-01,  3.43010246e-01,\n",
       "       -1.10149291e+00,  4.47631603e-01, -3.95247380e-01, -2.75679895e-01,\n",
       "        3.84088618e-01, -3.44208208e-01,  1.02007399e+00,  3.43534565e-01,\n",
       "       -1.48269444e+00,  5.32789225e-01,  1.57871715e+00,  6.18645590e-01,\n",
       "       -1.66509707e-01,  2.03469914e+00,  2.17377388e-01, -3.35811435e-01,\n",
       "        3.14754902e-01, -4.29534689e-01,  8.23090207e-01,  1.96445072e-01,\n",
       "        6.07686285e-01, -7.41571312e-01, -2.67452498e-01,  6.64906403e-02,\n",
       "       -1.27813182e+00, -6.13495728e-01,  2.95935432e-01,  1.45397325e+00,\n",
       "        5.72006779e-01,  9.13108894e-02, -1.43465914e-01, -2.62090982e-01,\n",
       "       -8.50076759e-01, -2.92402234e-01,  1.92370881e+00, -3.46684865e-01,\n",
       "       -3.56929537e-01,  1.45515485e+00, -1.79007986e-01, -2.41872707e+00,\n",
       "        1.03427357e+00,  5.25593502e-01, -6.41982484e-01,  6.22052189e-01,\n",
       "        9.01966986e-01, -7.72749087e-01,  2.66582574e-01, -7.16021921e-01,\n",
       "        2.58678955e-01, -9.78884704e-01,  1.56087688e+00, -1.93988375e-01,\n",
       "        2.91374883e-01,  2.36315829e-02,  5.49828225e-01,  9.03221472e-01,\n",
       "       -6.52529000e-01,  1.06353271e+00, -8.83069557e-01,  9.85793583e-02,\n",
       "       -1.35063948e+00,  8.70880217e-01,  3.93295137e-01, -1.65509142e+00,\n",
       "       -5.52944424e-03,  1.53712528e+00,  1.19536548e+00,  6.59863870e-01,\n",
       "       -1.73357551e+00, -1.06651791e+00, -5.45727212e-01, -8.26370321e-01,\n",
       "        6.86227440e-01, -1.11643084e+00,  1.01904631e+00,  7.60553674e-01,\n",
       "        7.80444876e-02,  8.65530149e-02,  8.49411918e-01, -1.25058420e+00,\n",
       "        2.23149845e-01,  8.17477427e-01, -5.69283495e-01,  1.85344063e-01,\n",
       "        7.84274253e-02, -1.15843124e+00, -6.62391362e-01,  1.17241221e+00,\n",
       "        5.88858962e-01,  1.00522149e+00,  1.08391056e+00, -7.86035311e-01,\n",
       "        1.51834441e+00,  2.25408087e+00, -1.48246536e-01,  2.29910120e+00,\n",
       "        2.17948857e-01,  8.79917279e-01, -1.11563616e+00, -7.81644060e-01,\n",
       "       -9.49029234e-03,  2.05337076e-01, -2.67716564e-01,  1.48072776e+00,\n",
       "        1.11954835e+00, -8.70179786e-01, -1.59632090e-01,  1.64316040e+00,\n",
       "       -7.54803455e-01,  1.25289713e+00,  1.52495125e+00,  1.49498181e+00,\n",
       "        1.70282152e-02, -5.55509655e-01, -1.22847519e+00, -1.33700979e+00,\n",
       "        6.64228952e-01,  3.14077656e+00,  2.41712128e+00,  2.47630385e-01,\n",
       "       -1.00300308e+00,  2.47294263e-01, -4.38181162e-01, -9.41290990e-01,\n",
       "        3.73886526e-01, -7.77047263e-01, -1.48028367e+00,  3.78188543e-01,\n",
       "       -1.06345515e+00,  2.02797091e+00, -1.15279578e+00, -1.00076356e+00,\n",
       "        2.44384472e-01,  1.74888254e-01, -2.56449405e-01,  1.24588821e+00,\n",
       "        1.09171178e+00, -1.63717710e+00,  5.69028189e-01,  2.31746491e+00,\n",
       "       -1.13506728e-02,  4.87217113e-01, -4.47992971e-01,  6.74059392e-01,\n",
       "       -1.78298537e-01,  1.91715779e-01,  1.53558771e+00,  8.90916013e-01,\n",
       "        6.89881326e-01,  2.46673525e+00,  1.81242395e-01, -8.30273502e-01,\n",
       "       -2.02248782e-01, -3.14429954e-01, -3.83349148e-01, -1.62077691e+00,\n",
       "       -6.39227136e-01,  4.12077590e-01,  1.46380997e+00,  6.57260681e-01,\n",
       "        8.30241480e-01, -7.65305952e-01, -3.70354852e-01,  1.43325052e+00,\n",
       "       -5.52526826e-01,  3.92437714e-01,  1.34853048e+00,  8.64481892e-01,\n",
       "       -5.37859445e-01, -1.40011671e+00, -3.81877963e-01, -6.94210401e-01,\n",
       "        3.30585442e+00,  4.04093854e-01,  5.95040058e-01, -6.25730158e-01,\n",
       "        1.37282311e+00, -8.63813493e-02, -7.12836822e-02,  3.21476079e+00,\n",
       "       -1.82018355e+00,  8.36132020e-01,  1.38686605e+00, -6.13469407e-01,\n",
       "        2.17596708e+00,  2.49181435e-01, -4.45111663e-01, -1.20639981e-01,\n",
       "       -6.46267846e-01, -9.22033342e-01, -2.45904742e-01, -9.81353298e-01,\n",
       "        4.25271657e-01,  7.62087053e-01, -6.03071003e-01,  2.80879594e-01,\n",
       "       -2.61535087e-01,  6.46285102e-01,  1.98439586e-01,  8.93278083e-01,\n",
       "        1.49691718e+00, -1.11011257e-01, -6.90970248e-01, -5.23838403e-01,\n",
       "       -2.51078525e-01,  6.91910958e-01,  1.57161044e+00, -5.11929479e-01,\n",
       "       -5.85659142e-01, -1.92341632e+00, -5.46907842e-01, -1.45389667e+00,\n",
       "       -1.13748004e+00,  7.25670251e-01, -1.10837931e+00, -2.72289287e-02,\n",
       "       -3.00705666e-01, -3.19077790e-01, -6.16732502e-01,  2.03794979e-01,\n",
       "        1.87955396e+00,  1.52681133e+00, -6.50417057e-01,  1.07752417e-01,\n",
       "       -1.20370891e+00,  9.89092129e-01,  2.02897338e-02,  4.47472215e-01,\n",
       "       -5.24510708e-01,  1.74786379e+00, -1.17396905e+00,  2.20000551e-01,\n",
       "       -4.04310256e-01,  5.86052477e-02, -1.35704502e-01,  8.78911952e-01,\n",
       "        2.88464652e-01,  8.38608525e-01, -3.31012651e-01, -1.17376534e+00,\n",
       "       -3.34641366e-01,  2.20558375e-01,  7.21589319e-01,  6.62096553e-01,\n",
       "       -6.98322153e-01, -6.17160206e-01,  1.08926840e+00, -3.77013112e-01,\n",
       "        8.99929685e-01,  1.09197225e+00,  5.37223519e-01, -2.84392092e-01,\n",
       "        1.70355920e-01, -8.02941113e-01,  1.15708419e+00,  6.95006485e-01,\n",
       "        6.73057189e-01,  1.10083167e+00, -6.71415887e-02,  1.25303438e+00,\n",
       "       -1.64494060e+00,  1.85652499e-01,  1.03310497e+00, -9.80855008e-01,\n",
       "        2.37176253e-01, -1.22028835e+00, -1.08851458e+00, -9.33618084e-01,\n",
       "       -4.70402567e-01, -2.60201159e-02,  1.82162850e+00, -5.36059793e-01,\n",
       "        1.58333958e+00,  7.10295041e-01,  5.56214044e-01, -7.80905093e-01,\n",
       "       -6.72248369e-02, -2.60023697e+00,  5.02950581e-01,  4.93813410e-01,\n",
       "       -5.40270202e-01, -2.15230990e+00, -1.36989335e+00,  9.42802006e-01,\n",
       "        1.10491084e-01, -8.48724188e-01,  2.08206321e-01, -7.28404551e-01,\n",
       "        8.18407495e-01,  1.47252009e-01, -1.24203509e+00,  1.36867019e-01,\n",
       "        1.93345237e+00, -8.01996685e-01,  5.55583127e-01, -1.08308856e+00,\n",
       "        7.84042958e-01,  9.01089404e-01, -4.83606447e-01,  2.19714109e+00,\n",
       "       -4.24504183e-02, -2.43921807e-01,  3.54884086e-02,  6.23034059e-01,\n",
       "       -6.75541012e-01, -4.10863379e-01,  4.26632767e-01,  9.61861652e-01,\n",
       "       -3.24872396e-01, -1.69124760e+00,  1.39954712e+00,  8.37195103e-01,\n",
       "        8.92200467e-01, -3.32167174e-01,  4.48033426e-01, -3.61882529e-01,\n",
       "       -8.60114302e-01, -9.61124452e-01, -1.16247585e+00, -1.80130344e-01,\n",
       "       -7.76579257e-01,  1.45010348e-01,  1.06286594e+00, -8.80068944e-01,\n",
       "       -1.92045902e-01, -5.31345965e-01,  5.31282189e-01, -4.85978067e-01,\n",
       "        3.75512132e-01,  2.08662765e+00,  5.39945748e-01,  6.84618828e-01,\n",
       "        7.05438900e-02, -2.37235799e+00, -5.57492979e-03, -1.07726910e+00,\n",
       "       -1.13868923e+00, -4.57847488e-01,  1.45249454e-01, -3.65316067e-02,\n",
       "       -9.41616188e-01,  9.36212814e-01,  3.98125803e-01, -1.33051250e+00,\n",
       "        8.68380156e-01,  1.44899684e-01,  5.04132197e-01, -5.83551458e-02,\n",
       "       -1.12806720e+00, -4.89004173e-01,  1.28481051e-01, -8.61660520e-01,\n",
       "        1.49504443e-01,  6.23408482e-01, -5.39516617e-01, -9.42766943e-01,\n",
       "        4.13874118e-01, -8.05982995e-01,  1.20047335e+00,  1.21645239e-02,\n",
       "       -8.44115936e-01, -1.41810011e+00,  8.95407344e-01, -5.19519531e-01,\n",
       "        5.82200031e-02, -1.02226030e+00, -2.27153516e+00, -1.37441223e+00,\n",
       "        8.76260072e-01, -8.69803577e-01,  5.78264848e-01,  5.22401268e-01,\n",
       "       -1.30255719e+00,  1.18965198e-01, -9.82069018e-01, -1.59280227e+00,\n",
       "        1.62391685e+00, -1.55106185e+00,  1.53793971e+00, -1.04518464e+00,\n",
       "        3.12895793e-01, -1.23272312e+00, -4.21173698e-01,  8.70233698e-01,\n",
       "        1.29261929e+00,  8.63944424e-01, -1.90473829e+00, -1.91738976e-01,\n",
       "       -1.66139602e+00,  5.91939933e-01, -8.96908210e-01,  9.29623342e-01,\n",
       "       -1.81419023e-01, -4.40700305e-01, -2.33273724e-01,  7.00050661e-01,\n",
       "       -9.69394229e-01, -6.26321651e-01, -5.13903728e-01, -1.54863723e+00,\n",
       "       -2.42260188e-01,  1.57621887e-01,  2.78355027e-02,  1.37086419e+00,\n",
       "        1.33976649e+00,  5.97020809e-01,  7.83716084e-01, -1.03628679e+00,\n",
       "        3.54944912e-01, -5.37179353e-01, -3.72471728e-01,  9.33299496e-01,\n",
       "       -1.28826043e+00, -1.66016306e-01,  1.01153680e+00, -4.23194169e-01,\n",
       "        2.65608227e+00, -6.96859986e-01,  3.08531888e-01,  1.00607733e+00,\n",
       "        1.30535776e+00,  1.53966144e+00,  1.24137279e-01, -4.82939774e-01,\n",
       "       -4.95508955e-01, -2.86678152e-01,  4.17541857e-01, -7.66868922e-01,\n",
       "       -1.00389400e+00,  4.51169929e-02, -2.93502847e-01, -1.37320095e+00,\n",
       "       -2.20078660e+00, -1.67570968e+00, -1.01663967e+00, -1.92647555e-01,\n",
       "       -1.47829106e+00, -2.05099953e-01, -5.76524427e-01,  7.97923703e-01,\n",
       "        1.00496484e+00, -6.08365872e-01,  3.09811662e-01, -1.11241134e+00,\n",
       "        1.02435653e-01, -2.04260103e+00, -5.32980886e-01,  2.12064905e+00,\n",
       "        5.89982857e-01, -1.46555350e+00, -2.91193671e+00, -1.25392360e+00,\n",
       "        1.04316787e+00,  1.28989924e+00,  1.01461549e+00,  1.91039836e+00,\n",
       "       -1.17129329e+00,  3.06779321e+00, -7.30949611e-01,  1.29148376e+00,\n",
       "       -5.73083546e-01, -2.93384865e-01, -1.86787673e+00,  1.20022154e+00,\n",
       "        2.01747594e-01,  1.84838101e-01, -1.03053050e+00, -3.86557196e-01,\n",
       "       -2.24098908e+00,  9.38205914e-01,  1.27661584e+00,  4.65653692e-01,\n",
       "        1.88572246e+00, -2.84362744e-01, -1.47206113e+00, -4.44728344e-01,\n",
       "        1.74627459e+00, -6.04488045e-01, -3.98374676e-01, -1.61361548e+00,\n",
       "        2.24192165e+00, -3.63701424e-01,  1.40870054e+00, -6.78814729e-02,\n",
       "       -1.63079440e+00,  5.22447345e-02, -1.61676832e+00,  6.63529546e-01,\n",
       "        2.12577577e+00,  1.13353610e+00,  8.08513749e-01, -1.92001837e+00,\n",
       "        9.70705290e-01, -2.50656289e+00, -8.02405341e-01,  1.01189113e+00,\n",
       "        4.94093494e-01,  2.47850799e-01,  2.01443382e+00,  2.86491503e-01,\n",
       "       -8.10089201e-01, -5.07282810e-01,  1.32194215e+00, -1.11545562e+00,\n",
       "        1.32821666e+00,  1.83623312e+00, -1.09369736e-02,  4.81973585e-01,\n",
       "        5.62539000e-01,  9.21200339e-01, -3.52875112e-01,  8.10333341e-01,\n",
       "       -5.71698142e-01,  1.05177655e+00, -6.34106054e-01, -4.52424666e-01,\n",
       "       -9.14273847e-01,  1.57611335e+00,  4.57725624e-01,  6.48200465e-01,\n",
       "       -3.01499738e-01, -3.39113155e-01, -8.84328099e-01,  1.38093319e-01,\n",
       "       -1.25947964e+00,  1.73184990e+00, -2.39799654e+00,  2.52736063e-01,\n",
       "        1.04721828e+00, -1.31970953e+00,  2.20207182e+00,  6.32584025e-01,\n",
       "       -5.09122797e-01, -1.28861451e+00,  9.63576370e-01,  9.39503462e-02,\n",
       "        1.31995287e+00,  1.21170344e+00,  5.84888513e-02, -7.86879269e-01,\n",
       "       -7.95227898e-01,  8.45747011e-01, -2.50846421e-01, -3.74841182e-01,\n",
       "        6.62786938e-01,  1.02283290e-01, -1.13021176e+00,  3.70291863e-01,\n",
       "        1.63803518e-01, -1.49241586e+00, -3.04401088e-01,  1.03611380e+00,\n",
       "       -6.93197467e-02, -3.53607304e-01, -4.47284238e-01, -7.68939778e-01,\n",
       "        6.12384058e-01, -1.54045630e+00,  1.09762571e+00,  6.48631709e-01,\n",
       "        1.98477857e+00,  5.27998131e-01, -1.16870039e+00, -3.09412426e-01,\n",
       "        1.08086270e+00, -1.25047867e+00, -4.48079919e-01,  5.86507578e-03,\n",
       "        1.78724071e-01,  8.21546520e-01,  8.48861239e-01, -1.10419004e+00,\n",
       "       -1.57164990e+00, -1.10126179e+00, -6.92988522e-01,  1.16734864e-01,\n",
       "        5.02122345e-01,  7.54243574e-01,  2.71555051e-01,  4.55817878e-01,\n",
       "       -4.29336040e-01,  2.76057947e-01, -1.53493535e+00,  5.04651722e-01,\n",
       "        1.30281682e-02, -4.41406538e-01, -1.27338749e+00,  1.40558856e+00,\n",
       "        6.81556665e-01, -6.57829847e-01, -1.82151533e+00,  9.83176325e-01,\n",
       "        5.13560790e-01,  5.16885682e-01,  9.01242087e-02, -1.60491599e+00,\n",
       "        1.93354097e-01, -7.22117640e-01, -1.38172475e+00, -7.01282490e-01,\n",
       "        1.26595401e+00,  1.18150228e+00,  8.53400893e-01,  2.33401457e+00,\n",
       "        8.39272039e-01, -2.25285744e-01, -6.70748774e-01, -5.70105808e-01,\n",
       "       -4.98215998e-01,  4.17253870e-01, -2.73605354e-01,  6.03522484e-01,\n",
       "        1.41331729e-01, -4.01634875e-01, -2.43646394e+00, -8.99386289e-01,\n",
       "       -8.36760124e-01, -6.55964367e-01,  8.43000768e-01, -1.50294592e+00,\n",
       "       -5.80591389e-01,  1.13370012e+00,  8.83748445e-01, -5.93972166e-01,\n",
       "       -1.08273133e+00,  6.56364152e-01,  1.37304341e-01, -5.74618173e-01,\n",
       "        8.37566898e-02,  1.45658783e+00,  1.91833756e+00,  4.67491695e-01,\n",
       "        1.91799114e+00,  5.57943009e-01,  3.09501885e-01,  1.08504316e+00,\n",
       "       -4.77230246e-01, -6.07638998e-01, -4.02792560e-01,  7.31331686e-01])"
      ]
     },
     "execution_count": 4,
     "metadata": {},
     "output_type": "execute_result"
    }
   ],
   "source": [
    "numeros = np.random.randn(1000)\n",
    "numeros"
   ]
  },
  {
   "cell_type": "code",
   "execution_count": 5,
   "id": "bb524da7",
   "metadata": {},
   "outputs": [
    {
     "data": {
      "image/png": "[encoded data removed]",
      "text/plain": [
       "<Figure size 640x480 with 1 Axes>"
      ]
     },
     "metadata": {},
     "output_type": "display_data"
    }
   ],
   "source": [
    "plt.hist(numeros);"
   ]
  },
  {
   "cell_type": "code",
   "execution_count": 6,
   "id": "a4cad404",
   "metadata": {},
   "outputs": [
    {
     "data": {
      "image/png": "[encoded data removed]",
      "text/plain": [
       "<Figure size 640x480 with 1 Axes>"
      ]
     },
     "metadata": {},
     "output_type": "display_data"
    }
   ],
   "source": [
    "plt.hist(numeros, bins=40);"
   ]
  },
  {
   "cell_type": "code",
   "execution_count": 7,
   "id": "7c1a637b",
   "metadata": {},
   "outputs": [
    {
     "data": {
      "image/png": "[encoded data removed]",
      "text/plain": [
       "<Figure size 640x480 with 1 Axes>"
      ]
     },
     "metadata": {},
     "output_type": "display_data"
    }
   ],
   "source": [
    "plt.hist(numeros, bins=40, alpha=0.5);"
   ]
  },
  {
   "cell_type": "code",
   "execution_count": 8,
   "id": "20c669bd",
   "metadata": {},
   "outputs": [
    {
     "data": {
      "image/png": "[encoded data removed]",
      "text/plain": [
       "<Figure size 640x480 with 1 Axes>"
      ]
     },
     "metadata": {},
     "output_type": "display_data"
    }
   ],
   "source": [
    "plt.hist(numeros, bins=40, alpha=0.5, color='red');"
   ]
  },
  {
   "cell_type": "code",
   "execution_count": 9,
   "id": "303f15b8",
   "metadata": {},
   "outputs": [
    {
     "data": {
      "image/png": "[encoded data removed]",
      "text/plain": [
       "<Figure size 640x480 with 1 Axes>"
      ]
     },
     "metadata": {},
     "output_type": "display_data"
    }
   ],
   "source": [
    "plt.hist(numeros, bins=40, alpha=0.5, color='red', edgecolor='green');"
   ]
  },
  {
   "cell_type": "code",
   "execution_count": 10,
   "id": "e38fd9c4",
   "metadata": {},
   "outputs": [
    {
     "data": {
      "image/png": "[encoded data removed]",
      "text/plain": [
       "<Figure size 640x480 with 1 Axes>"
      ]
     },
     "metadata": {},
     "output_type": "display_data"
    }
   ],
   "source": [
    "plt.hist(numeros, bins=40, alpha=0.5, color='red', edgecolor='green', histtype='step');"
   ]
  },
  {
   "cell_type": "code",
   "execution_count": 12,
   "id": "1b2bf5d1",
   "metadata": {},
   "outputs": [
    {
     "data": {
      "image/png": "[encoded data removed]",
      "text/plain": [
       "<Figure size 640x480 with 1 Axes>"
      ]
     },
     "metadata": {},
     "output_type": "display_data"
    }
   ],
   "source": [
    "x1 = np.random.randn(1000)\n",
    "x2 = np.random.randn(500)\n",
    "x3 = np.random.randn(100)\n",
    "\n",
    "plt.hist(x1, histtype='stepfilled', alpha = 0.3, bins=40);\n",
    "plt.hist(x2, histtype='stepfilled', alpha = 0.3, bins=40);\n",
    "plt.hist(x3, histtype='stepfilled', alpha = 0.3, bins=40);"
   ]
  }
 ],
 "metadata": {
  "kernelspec": {
   "display_name": "Python 3",
   "language": "python",
   "name": "python3"
  },
  "language_info": {
   "codemirror_mode": {
    "name": "ipython",
    "version": 3
   },
   "file_extension": ".py",
   "mimetype": "text/x-python",
   "name": "python",
   "nbconvert_exporter": "python",
   "pygments_lexer": "ipython3",
   "version": "3.12.2"
  }
 },
 "nbformat": 4,
 "nbformat_minor": 5
}
