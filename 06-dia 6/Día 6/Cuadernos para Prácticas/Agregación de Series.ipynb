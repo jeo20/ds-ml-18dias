{
 "cells": [
  {
   "cell_type": "code",
   "execution_count": 1,
   "id": "70be9b8b",
   "metadata": {},
   "outputs": [
    {
     "data": {
      "text/plain": [
       "0    10\n",
       "1    20\n",
       "2    30\n",
       "3    40\n",
       "4    50\n",
       "dtype: int64"
      ]
     },
     "execution_count": 1,
     "metadata": {},
     "output_type": "execute_result"
    }
   ],
   "source": [
    "import pandas as pd\n",
    "\n",
    "numeros = pd.Series([10, 20, 30, 40, 50])\n",
    "numeros"
   ]
  },
  {
   "cell_type": "code",
   "execution_count": 2,
   "id": "d2e8d7bb",
   "metadata": {},
   "outputs": [
    {
     "name": "stdout",
     "output_type": "stream",
     "text": [
      "El promedio es 30.0\n"
     ]
    }
   ],
   "source": [
    "promedio = numeros.mean()\n",
    "# mean() calcula el promedio de la serie\n",
    "print(f\"El promedio es {promedio}\")"
   ]
  },
  {
   "cell_type": "code",
   "execution_count": 3,
   "id": "54a89dd8",
   "metadata": {},
   "outputs": [
    {
     "data": {
      "text/plain": [
       "np.int64(150)"
      ]
     },
     "execution_count": 3,
     "metadata": {},
     "output_type": "execute_result"
    }
   ],
   "source": [
    "total = numeros.sum()\n",
    "# suma todos los elementos de la serie\n",
    "total"
   ]
  },
  {
   "cell_type": "code",
   "execution_count": 4,
   "id": "47ba4a93",
   "metadata": {},
   "outputs": [
    {
     "data": {
      "text/plain": [
       "np.int64(50)"
      ]
     },
     "execution_count": 4,
     "metadata": {},
     "output_type": "execute_result"
    }
   ],
   "source": [
    "maximo = numeros.max()\n",
    "maximo"
   ]
  },
  {
   "cell_type": "code",
   "execution_count": 5,
   "id": "19b710d8",
   "metadata": {},
   "outputs": [
    {
     "data": {
      "text/plain": [
       "np.int64(10)"
      ]
     },
     "execution_count": 5,
     "metadata": {},
     "output_type": "execute_result"
    }
   ],
   "source": [
    "minimo = numeros.min()\n",
    "minimo"
   ]
  }
 ],
 "metadata": {
  "kernelspec": {
   "display_name": "Python 3",
   "language": "python",
   "name": "python3"
  },
  "language_info": {
   "codemirror_mode": {
    "name": "ipython",
    "version": 3
   },
   "file_extension": ".py",
   "mimetype": "text/x-python",
   "name": "python",
   "nbconvert_exporter": "python",
   "pygments_lexer": "ipython3",
   "version": "3.12.2"
  }
 },
 "nbformat": 4,
 "nbformat_minor": 5
}
