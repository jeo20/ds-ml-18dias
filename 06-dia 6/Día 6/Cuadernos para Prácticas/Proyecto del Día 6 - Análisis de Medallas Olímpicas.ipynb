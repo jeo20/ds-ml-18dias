{
 "cells": [
  {
   "cell_type": "markdown",
   "id": "0c14ab17",
   "metadata": {},
   "source": [
    "# Proyecto del Día 6 - Análisis de Medallas Olímpicas\n",
    "\n",
    "### Objetivo\n",
    "Realizar un análisis exploratorio de datos (EDA) sobre un conjunto de datos de medallas olímpicas utilizando Pandas. Este proyecto te permitirá aplicar los conceptos aprendidos sobre **Series**, **DataFrames**, **limpieza de datos**, **operaciones básicas**, **filtrado** y **agregación** en Pandas.\n",
    "\n",
    "### Consigna\n",
    "Vas a trabajar con el conjunto de datos *medallas.csv*, que descargarás de la lección **Proyecto del Día 6**, y que incluye información sobre las medallas de oro, plata, bronce y el total obtenido por cada país en los Juegos Olímpicos.\n",
    "\n",
    "Vas a realizar una serie de tareas básicas, que te permitirán responder a las preguntas del **cuestionario** que encontrarás al final del día. Las tareas que realizarás son:\n",
    "\n",
    "1. **Cargar los Datos**: Importar los datos desde el archivo CSV a un DataFrame de Pandas.\n",
    "\n",
    "2. **Exploración Inicial**: Utilizar métodos básicos para explorar el tamaño, las columnas y los tipos de datos del DataFrame.\n",
    "\n",
    "3. **Limpieza de Datos**: Identificar y manejar valores faltantes o incorrectos, especialmente en las columnas de medallas donde los valores faltantes indican cero medallas.\n",
    "\n",
    "4. **Análisis de Medallas de Oro por País**: Realiza las operaciones que sean necesarias para identificar cuáles fueron los 3 países con más medallas de Oro en total (vas a necesitar investigar los métodos de dataframes para encontrar cuál te permite ordenar los valores de mayor a menor o viceversa).\n",
    "\n",
    "5. **Análisis de Medallas Totales por País**: Obtener un dataframe que contenga sólo los países que ganaron más de 10 medallas en total.\n",
    "\n",
    "\n",
    "Una vez que hayas realizado estos pasos, realiza el **cuestionario del día**, que contiene preguntas que solo podrás responder tras haber explorado los datos siguiendo los pasos anteriores.\n",
    "\n",
    "¡Mucha suerte!"
   ]
  },
  {
   "cell_type": "code",
   "execution_count": null,
   "id": "f676e71e",
   "metadata": {},
   "outputs": [],
   "source": [
    "import pandas as pd"
   ]
  },
  {
   "cell_type": "code",
   "execution_count": null,
   "id": "bdfa49be",
   "metadata": {},
   "outputs": [],
   "source": [
    "#path casa\n",
    "#df = df = pd.read_csv(\"D:\\Cursos\\ds-ml-18dias\\\\06-dia 6\\\\31.1 medallas.csv\")\n",
    "df = pd.read_csv(\"D:\\Cursos\\ds_ml_18dias\\\\06-dia 6\\\\31.1 medallas.csv\")\n",
    "df"
   ]
  },
  {
   "cell_type": "code",
   "execution_count": null,
   "id": "2512bbde",
   "metadata": {},
   "outputs": [],
   "source": [
    "df.info()"
   ]
  },
  {
   "cell_type": "code",
   "execution_count": null,
   "id": "30643e33",
   "metadata": {},
   "outputs": [],
   "source": [
    "df.isnull()"
   ]
  },
  {
   "cell_type": "code",
   "execution_count": null,
   "id": "c88dc5b7",
   "metadata": {},
   "outputs": [],
   "source": [
    "df.isnull().sum()"
   ]
  },
  {
   "cell_type": "code",
   "execution_count": null,
   "id": "b4aa7f4b",
   "metadata": {},
   "outputs": [],
   "source": [
    "valores_nuevos = {\"Oro\": 0, \"Plata\": 0, \"Bronce\": 0}\n",
    "# reemplazo los valores nulos de cantidad_vendida por 0 y precio por el promedio\n",
    "# df_relleno = df.fillna(0) remplaza todos los valores nulos por 0\n",
    "# df.fillna(0, inplace = True) remplaza todos los valores nulos por 0 en el dataframe sin crear una copia\n",
    "df_rellenados = df.fillna(valores_nuevos)\n",
    "df_rellenados.isnull().sum()"
   ]
  },
  {
   "cell_type": "code",
   "execution_count": null,
   "id": "1c8e32ca",
   "metadata": {},
   "outputs": [],
   "source": [
    "df_rellenados[\"Oro\"] = df_rellenados[\"Oro\"].astype(int)\n",
    "df_rellenados[\"Plata\"] = df_rellenados[\"Plata\"].astype(int)\n",
    "df_rellenados[\"Bronce\"] = df_rellenados[\"Bronce\"].astype(int)\n",
    "# convierto la serie Cantidad_vendida a entero\n",
    "df_rellenados"
   ]
  },
  {
   "cell_type": "code",
   "execution_count": null,
   "id": "1673e01c",
   "metadata": {},
   "outputs": [],
   "source": [
    "df_unicos = df_rellenados.drop_duplicates()\n",
    "# elimina duplicados, si a drop_duplicates() no le paso parametros, elimina registros completos que sean identicos\n",
    "df_unicos"
   ]
  },
  {
   "cell_type": "code",
   "execution_count": null,
   "id": "46542514",
   "metadata": {},
   "outputs": [],
   "source": [
    "df_unicos = df_rellenados.drop_duplicates(subset=\"Pais\")\n",
    "# elimina duplicados, con el parametro subset defino que serie va a buscar duplicados\n",
    "df_unicos"
   ]
  },
  {
   "cell_type": "code",
   "execution_count": null,
   "id": "3f892352",
   "metadata": {},
   "outputs": [],
   "source": [
    "oro3 = df_unicos.nlargest(3, 'Oro')\n",
    "oro3"
   ]
  },
  {
   "cell_type": "code",
   "execution_count": null,
   "id": "bc6f5c8f",
   "metadata": {},
   "outputs": [],
   "source": [
    "filtro = df[\"Total\"] > 10\n",
    "medallas10 = df_unicos[filtro]\n",
    "medallas10.sort_values(\"Total\", ascending=False)\n"
   ]
  }
 ],
 "metadata": {
  "kernelspec": {
   "display_name": "Python 3",
   "language": "python",
   "name": "python3"
  },
  "language_info": {
   "codemirror_mode": {
    "name": "ipython",
    "version": 3
   },
   "file_extension": ".py",
   "mimetype": "text/x-python",
   "name": "python",
   "nbconvert_exporter": "python",
   "pygments_lexer": "ipython3",
   "version": "3.12.2"
  }
 },
 "nbformat": 4,
 "nbformat_minor": 5
}
