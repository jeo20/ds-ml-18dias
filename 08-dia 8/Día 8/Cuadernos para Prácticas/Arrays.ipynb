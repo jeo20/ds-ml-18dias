{
 "cells": [
  {
   "cell_type": "code",
   "execution_count": 1,
   "id": "a810be89",
   "metadata": {},
   "outputs": [],
   "source": [
    "import numpy as np\n",
    "import time"
   ]
  },
  {
   "cell_type": "code",
   "execution_count": 2,
   "id": "e805f2d7",
   "metadata": {},
   "outputs": [
    {
     "data": {
      "text/plain": [
       "array([1, 2, 3, 4, 5])"
      ]
     },
     "execution_count": 2,
     "metadata": {},
     "output_type": "execute_result"
    }
   ],
   "source": [
    "mi_array = np.array([1,2,3,4,5])\n",
    "mi_array"
   ]
  },
  {
   "cell_type": "code",
   "execution_count": 3,
   "id": "cbd52c92",
   "metadata": {},
   "outputs": [
    {
     "data": {
      "text/plain": [
       "numpy.ndarray"
      ]
     },
     "execution_count": 3,
     "metadata": {},
     "output_type": "execute_result"
    }
   ],
   "source": [
    "type(mi_array)"
   ]
  },
  {
   "cell_type": "code",
   "execution_count": 4,
   "id": "c784a8fe",
   "metadata": {},
   "outputs": [],
   "source": [
    "lista_grande = list(range(1000000))\n",
    "array_grande = np.array(lista_grande)"
   ]
  },
  {
   "cell_type": "code",
   "execution_count": 5,
   "id": "7cef4ea4",
   "metadata": {},
   "outputs": [
    {
     "data": {
      "text/plain": [
       "list"
      ]
     },
     "execution_count": 5,
     "metadata": {},
     "output_type": "execute_result"
    }
   ],
   "source": [
    "type(lista_grande)"
   ]
  },
  {
   "cell_type": "code",
   "execution_count": 6,
   "metadata": {},
   "outputs": [
    {
     "data": {
      "text/plain": [
       "numpy.ndarray"
      ]
     },
     "execution_count": 6,
     "metadata": {},
     "output_type": "execute_result"
    }
   ],
   "source": [
    "type(array_grande)"
   ]
  },
  {
   "cell_type": "code",
   "execution_count": 7,
   "id": "83cf44e5",
   "metadata": {},
   "outputs": [
    {
     "name": "stdout",
     "output_type": "stream",
     "text": [
      "Tiempo lista:  0.15297484397888184\n"
     ]
    }
   ],
   "source": [
    "inicio_lista = time.time()\n",
    "for i in lista_grande:\n",
    "    i ** 2\n",
    "fin_lista = time.time()\n",
    "print(\"Tiempo lista: \", fin_lista - inicio_lista)"
   ]
  },
  {
   "cell_type": "code",
   "execution_count": 8,
   "id": "b521f9e3",
   "metadata": {},
   "outputs": [
    {
     "name": "stdout",
     "output_type": "stream",
     "text": [
      "Tiempo array:  0.004526615142822266\n"
     ]
    }
   ],
   "source": [
    "inicio_array = time.time()\n",
    "array_grande ** 2\n",
    "fin_array = time.time()\n",
    "print(\"Tiempo array: \", fin_array - inicio_array)"
   ]
  }
 ],
 "metadata": {
  "kernelspec": {
   "display_name": "Python 3",
   "language": "python",
   "name": "python3"
  },
  "language_info": {
   "codemirror_mode": {
    "name": "ipython",
    "version": 3
   },
   "file_extension": ".py",
   "mimetype": "text/x-python",
   "name": "python",
   "nbconvert_exporter": "python",
   "pygments_lexer": "ipython3",
   "version": "3.12.2"
  }
 },
 "nbformat": 4,
 "nbformat_minor": 5
}
